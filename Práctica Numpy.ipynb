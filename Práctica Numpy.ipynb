{
 "cells": [
  {
   "cell_type": "markdown",
   "metadata": {},
   "source": [
    "### Numpy basics "
   ]
  },
  {
   "cell_type": "code",
   "execution_count": 1,
   "metadata": {},
   "outputs": [],
   "source": [
    "import numpy as np"
   ]
  },
  {
   "cell_type": "markdown",
   "metadata": {},
   "source": [
    "Crea un array de 10 ceros."
   ]
  },
  {
   "cell_type": "code",
   "execution_count": 2,
   "metadata": {},
   "outputs": [
    {
     "data": {
      "text/plain": [
       "array([0., 0., 0., 0., 0., 0., 0., 0., 0., 0.])"
      ]
     },
     "execution_count": 2,
     "metadata": {},
     "output_type": "execute_result"
    }
   ],
   "source": [
    "zero_array = np.zeros(10)\n",
    "zero_array"
   ]
  },
  {
   "cell_type": "markdown",
   "metadata": {},
   "source": [
    "Crea un array de 10 unos."
   ]
  },
  {
   "cell_type": "code",
   "execution_count": 3,
   "metadata": {},
   "outputs": [
    {
     "data": {
      "text/plain": [
       "array([1., 1., 1., 1., 1., 1., 1., 1., 1., 1.])"
      ]
     },
     "execution_count": 3,
     "metadata": {},
     "output_type": "execute_result"
    }
   ],
   "source": [
    "one_array = np.ones(10)\n",
    "one_array"
   ]
  },
  {
   "cell_type": "markdown",
   "metadata": {},
   "source": [
    "Crea un array de enteros del 10 al 49."
   ]
  },
  {
   "cell_type": "code",
   "execution_count": 4,
   "metadata": {},
   "outputs": [
    {
     "data": {
      "text/plain": [
       "array([10, 11, 12, 13, 14, 15, 16, 17, 18, 19, 20, 21, 22, 23, 24, 25, 26,\n",
       "       27, 28, 29, 30, 31, 32, 33, 34, 35, 36, 37, 38, 39, 40, 41, 42, 43,\n",
       "       44, 45, 46, 47, 48, 49])"
      ]
     },
     "execution_count": 4,
     "metadata": {},
     "output_type": "execute_result"
    }
   ],
   "source": [
    "int_array = np.arange(10, 50)\n",
    "int_array"
   ]
  },
  {
   "cell_type": "markdown",
   "metadata": {},
   "source": [
    "Invierte el array del ejercicio anterior."
   ]
  },
  {
   "cell_type": "code",
   "execution_count": 5,
   "metadata": {},
   "outputs": [
    {
     "data": {
      "text/plain": [
       "array([49, 48, 47, 46, 45, 44, 43, 42, 41, 40, 39, 38, 37, 36, 35, 34, 33,\n",
       "       32, 31, 30, 29, 28, 27, 26, 25, 24, 23, 22, 21, 20, 19, 18, 17, 16,\n",
       "       15, 14, 13, 12, 11, 10])"
      ]
     },
     "execution_count": 5,
     "metadata": {},
     "output_type": "execute_result"
    }
   ],
   "source": [
    "inv_int_array = int_array[::-1]\n",
    "inv_int_array"
   ]
  },
  {
   "cell_type": "markdown",
   "metadata": {},
   "source": [
    "Crea una matriz de 3x3 con valores del 0 al 8."
   ]
  },
  {
   "cell_type": "code",
   "execution_count": 6,
   "metadata": {},
   "outputs": [
    {
     "data": {
      "text/plain": [
       "array([[0, 1, 2],\n",
       "       [3, 4, 5],\n",
       "       [6, 7, 8]])"
      ]
     },
     "execution_count": 6,
     "metadata": {},
     "output_type": "execute_result"
    }
   ],
   "source": [
    "\n",
    "mat_0_8 = np.arange(9).reshape(3, 3)\n",
    "mat_0_8"
   ]
  },
  {
   "cell_type": "markdown",
   "metadata": {},
   "source": [
    "Crea un array de 3x3 con valores aleatorios y encuentra sus propiedades."
   ]
  },
  {
   "cell_type": "code",
   "execution_count": 7,
   "metadata": {},
   "outputs": [
    {
     "data": {
      "text/plain": [
       "array([[0.70475003, 0.99605581, 0.86734637],\n",
       "       [0.58595254, 0.31768468, 0.6452009 ],\n",
       "       [0.9327225 , 0.82374438, 0.08301581]])"
      ]
     },
     "execution_count": 7,
     "metadata": {},
     "output_type": "execute_result"
    }
   ],
   "source": [
    "mat_random = np.random.random((3, 3))\n",
    "mat_random"
   ]
  },
  {
   "cell_type": "code",
   "execution_count": 8,
   "metadata": {},
   "outputs": [
    {
     "data": {
      "text/plain": [
       "(3, 3)"
      ]
     },
     "execution_count": 8,
     "metadata": {},
     "output_type": "execute_result"
    }
   ],
   "source": [
    "# Forma\n",
    "mat_random.shape"
   ]
  },
  {
   "cell_type": "code",
   "execution_count": 9,
   "metadata": {},
   "outputs": [
    {
     "data": {
      "text/plain": [
       "2"
      ]
     },
     "execution_count": 9,
     "metadata": {},
     "output_type": "execute_result"
    }
   ],
   "source": [
    "# Número de dimensiones\n",
    "mat_random.ndim"
   ]
  },
  {
   "cell_type": "code",
   "execution_count": 10,
   "metadata": {},
   "outputs": [
    {
     "data": {
      "text/plain": [
       "9"
      ]
     },
     "execution_count": 10,
     "metadata": {},
     "output_type": "execute_result"
    }
   ],
   "source": [
    "# Tamaño\n",
    "mat_random.size"
   ]
  },
  {
   "cell_type": "code",
   "execution_count": 11,
   "metadata": {},
   "outputs": [
    {
     "data": {
      "text/plain": [
       "dtype('float64')"
      ]
     },
     "execution_count": 11,
     "metadata": {},
     "output_type": "execute_result"
    }
   ],
   "source": [
    "# Tipo de datos\n",
    "mat_random.dtype"
   ]
  },
  {
   "cell_type": "markdown",
   "metadata": {},
   "source": [
    "Crea dos arrays de 3x3 y realiza operaciones aritméticas básicas "
   ]
  },
  {
   "cell_type": "code",
   "execution_count": 12,
   "metadata": {},
   "outputs": [
    {
     "data": {
      "text/plain": [
       "array([[0.39746155, 0.49114787, 0.78738901],\n",
       "       [0.07120038, 0.63371338, 0.79753365],\n",
       "       [0.81857949, 0.17560311, 0.07427026]])"
      ]
     },
     "execution_count": 12,
     "metadata": {},
     "output_type": "execute_result"
    }
   ],
   "source": [
    "mat_random_2 = np.random.random((3, 3))\n",
    "mat_random_2"
   ]
  },
  {
   "cell_type": "code",
   "execution_count": 13,
   "metadata": {},
   "outputs": [
    {
     "data": {
      "text/plain": [
       "array([[1.10221157, 1.48720368, 1.65473538],\n",
       "       [0.65715292, 0.95139806, 1.44273455],\n",
       "       [1.75130199, 0.99934749, 0.15728607]])"
      ]
     },
     "execution_count": 13,
     "metadata": {},
     "output_type": "execute_result"
    }
   ],
   "source": [
    "add = np.add(mat_random, mat_random_2)\n",
    "add "
   ]
  },
  {
   "cell_type": "code",
   "execution_count": 14,
   "metadata": {},
   "outputs": [
    {
     "data": {
      "text/plain": [
       "array([[ 0.30728848,  0.50490794,  0.07995736],\n",
       "       [ 0.51475216, -0.3160287 , -0.15233276],\n",
       "       [ 0.114143  ,  0.64814128,  0.00874556]])"
      ]
     },
     "execution_count": 14,
     "metadata": {},
     "output_type": "execute_result"
    }
   ],
   "source": [
    "subtract = np.subtract(mat_random, mat_random_2)\n",
    "subtract "
   ]
  },
  {
   "cell_type": "code",
   "execution_count": 15,
   "metadata": {},
   "outputs": [
    {
     "data": {
      "text/plain": [
       "array([[0.28011104, 0.48921069, 0.682939  ],\n",
       "       [0.04172004, 0.20132103, 0.51456943],\n",
       "       [0.76350751, 0.14465207, 0.00616561]])"
      ]
     },
     "execution_count": 15,
     "metadata": {},
     "output_type": "execute_result"
    }
   ],
   "source": [
    "multiply = np.multiply(mat_random, mat_random_2)\n",
    "multiply "
   ]
  },
  {
   "cell_type": "code",
   "execution_count": 16,
   "metadata": {},
   "outputs": [
    {
     "data": {
      "text/plain": [
       "array([[1.77312756, 2.02801614, 1.10154746],\n",
       "       [8.22962678, 0.50130657, 0.8089952 ],\n",
       "       [1.13944034, 4.69094426, 1.11775312]])"
      ]
     },
     "execution_count": 16,
     "metadata": {},
     "output_type": "execute_result"
    }
   ],
   "source": [
    "divide = np.divide(mat_random, mat_random_2)\n",
    "divide "
   ]
  },
  {
   "cell_type": "markdown",
   "metadata": {},
   "source": [
    "Calcula el producto punto de dos arrays 3x3"
   ]
  },
  {
   "cell_type": "code",
   "execution_count": 17,
   "metadata": {},
   "outputs": [
    {
     "name": "stdout",
     "output_type": "stream",
     "text": [
      "[[1.06102254 1.12965909 1.4137185 ]\n",
      " [0.7836611  0.60240966 0.76265606]\n",
      " [0.49732728 0.99470034 1.39754492]]\n"
     ]
    }
   ],
   "source": [
    "dot = np.dot(mat_random, mat_random_2)\n",
    "print(dot) "
   ]
  },
  {
   "cell_type": "markdown",
   "metadata": {},
   "source": [
    "Crea un array de 5x5 con valores aleatorios y encuentra su suma, media, desviación estándar y varianza."
   ]
  },
  {
   "cell_type": "code",
   "execution_count": 18,
   "metadata": {},
   "outputs": [
    {
     "data": {
      "text/plain": [
       "array([[0.41105355, 0.12267913, 0.14095369, 0.12009534, 0.21699539],\n",
       "       [0.4098011 , 0.08257852, 0.74079937, 0.852066  , 0.75806209],\n",
       "       [0.83305096, 0.68475191, 0.86856574, 0.00543954, 0.95599173],\n",
       "       [0.95639569, 0.90669952, 0.87426021, 0.94497262, 0.41857573],\n",
       "       [0.11121549, 0.40354197, 0.7390632 , 0.17664438, 0.08904115]])"
      ]
     },
     "execution_count": 18,
     "metadata": {},
     "output_type": "execute_result"
    }
   ],
   "source": [
    "mat_random_3 = np.random.random((5, 5))\n",
    "mat_random_3"
   ]
  },
  {
   "cell_type": "code",
   "execution_count": 19,
   "metadata": {},
   "outputs": [
    {
     "data": {
      "text/plain": [
       "12.8232940041859"
      ]
     },
     "execution_count": 19,
     "metadata": {},
     "output_type": "execute_result"
    }
   ],
   "source": [
    "# Suma\n",
    "np.sum(mat_random_3)"
   ]
  },
  {
   "cell_type": "code",
   "execution_count": 20,
   "metadata": {},
   "outputs": [
    {
     "data": {
      "text/plain": [
       "0.512931760167436"
      ]
     },
     "execution_count": 20,
     "metadata": {},
     "output_type": "execute_result"
    }
   ],
   "source": [
    "# Media\n",
    "np.mean(mat_random_3)"
   ]
  },
  {
   "cell_type": "code",
   "execution_count": 21,
   "metadata": {},
   "outputs": [
    {
     "data": {
      "text/plain": [
       "0.3390112403627604"
      ]
     },
     "execution_count": 21,
     "metadata": {},
     "output_type": "execute_result"
    }
   ],
   "source": [
    "# Desviación estándar\n",
    "np.std(mat_random_3)"
   ]
  },
  {
   "cell_type": "code",
   "execution_count": 22,
   "metadata": {},
   "outputs": [
    {
     "data": {
      "text/plain": [
       "0.11492862109229733"
      ]
     },
     "execution_count": 22,
     "metadata": {},
     "output_type": "execute_result"
    }
   ],
   "source": [
    "# Varianza\n",
    "np.var(mat_random_3)"
   ]
  },
  {
   "cell_type": "markdown",
   "metadata": {},
   "source": [
    "Aplica las funciones seno, coseno y logaritmo a un array de 10 elementos aleatorios."
   ]
  },
  {
   "cell_type": "code",
   "execution_count": 23,
   "metadata": {},
   "outputs": [
    {
     "data": {
      "text/plain": [
       "array([0.2878771 , 0.03998401, 0.11688536, 0.53971972, 0.69313761,\n",
       "       0.72011707, 0.63889384, 0.54057216, 0.78026081, 0.0543698 ])"
      ]
     },
     "execution_count": 23,
     "metadata": {},
     "output_type": "execute_result"
    }
   ],
   "source": [
    "random_array = np.random.random(10)\n",
    "random_array"
   ]
  },
  {
   "cell_type": "code",
   "execution_count": 24,
   "metadata": {},
   "outputs": [
    {
     "data": {
      "text/plain": [
       "array([0.28391733, 0.03997336, 0.11661939, 0.51389557, 0.63895392,\n",
       "       0.65947268, 0.59630783, 0.51462665, 0.70346481, 0.05434302])"
      ]
     },
     "execution_count": 24,
     "metadata": {},
     "output_type": "execute_result"
    }
   ],
   "source": [
    "np.sin(random_array)"
   ]
  },
  {
   "cell_type": "code",
   "execution_count": 25,
   "metadata": {},
   "outputs": [
    {
     "data": {
      "text/plain": [
       "array([0.95884876, 0.99920075, 0.99317668, 0.85785275, 0.76924501,\n",
       "       0.75172853, 0.80275586, 0.85741438, 0.71073009, 0.99852233])"
      ]
     },
     "execution_count": 25,
     "metadata": {},
     "output_type": "execute_result"
    }
   ],
   "source": [
    "np.cos(random_array)"
   ]
  },
  {
   "cell_type": "code",
   "execution_count": 26,
   "metadata": {},
   "outputs": [
    {
     "data": {
      "text/plain": [
       "array([-1.24522163, -3.21927563, -2.14656165, -0.61670531, -0.36652672,\n",
       "       -0.32834148, -0.44801698, -0.61512715, -0.24812704, -2.91194635])"
      ]
     },
     "execution_count": 26,
     "metadata": {},
     "output_type": "execute_result"
    }
   ],
   "source": [
    "np.log(random_array)"
   ]
  },
  {
   "cell_type": "markdown",
   "metadata": {},
   "source": [
    "### Numpy data analysis"
   ]
  },
  {
   "cell_type": "markdown",
   "metadata": {},
   "source": [
    "Ejercicio: Genera un dataset sintético que simule datos de ventas. Crea un array de 100x4 donde cada fila represente una transacción con las siguientes columnas: ID del producto, Cantidad vendida, Precio unitario, y Fecha de venta"
   ]
  },
  {
   "cell_type": "code",
   "execution_count": 27,
   "metadata": {},
   "outputs": [
    {
     "data": {
      "text/plain": [
       "array([9323, 7809, 8560, 1552, 7298, 7189, 2104,  680, 3617, 9546, 8970,\n",
       "       3123, 5979,  860, 2278, 8144,  215,  654, 7100, 8553, 3344, 3666,\n",
       "       1573, 8802, 7343, 6522, 5519, 5089, 5140, 7392,  198, 8301, 6457,\n",
       "       6176,   90, 2336, 7385, 8984, 5061, 8667, 2788, 5674,  721, 8280,\n",
       "       3667,   89, 1189, 5007, 1328, 3057, 3488, 5131, 7938, 4916,  655,\n",
       "       8807, 1384, 2782, 5524, 2376, 2627, 2351, 1030, 1113, 3060, 6254,\n",
       "       2504,  856, 7052,  595,  274, 3037, 2077, 8252, 5916, 4651, 1018,\n",
       "       6130, 9043, 8266, 5243,  915, 3422,  776, 5808, 8380, 4060, 9883,\n",
       "       1631,  689, 8112, 7886, 7495, 2535, 7292, 7115, 5935, 8440, 5561,\n",
       "       6533])"
      ]
     },
     "execution_count": 27,
     "metadata": {},
     "output_type": "execute_result"
    }
   ],
   "source": [
    "# Genera un array con IDs de productos aleatorios.\n",
    "\n",
    "product_id = np.random.randint(1, 10000, size = 100)\n",
    "product_id "
   ]
  },
  {
   "cell_type": "code",
   "execution_count": 28,
   "metadata": {},
   "outputs": [
    {
     "data": {
      "text/plain": [
       "array([229, 270, 429, 361, 325, 212, 165, 359, 211, 426, 464, 340, 158,\n",
       "       241, 451, 228, 178, 284, 475, 222, 252, 338, 434, 472, 171, 291,\n",
       "       371,  90,  14, 280, 341, 195,   1, 138, 342, 200,  29,   6, 463,\n",
       "       294, 356, 233, 407,  12, 102,  78,  97, 258, 442, 290, 272,  48,\n",
       "       440,  22, 326, 137, 285, 100, 103,  97,   5, 437, 140, 458, 440,\n",
       "       139, 115, 292, 284, 391, 125,  33,  40, 150,  44, 399,  65, 407,\n",
       "       361,  31, 284, 425,  51,  65, 362, 422, 139, 479, 359, 296, 395,\n",
       "        51, 357,  72, 106, 118,  78,  21, 298,  26])"
      ]
     },
     "execution_count": 28,
     "metadata": {},
     "output_type": "execute_result"
    }
   ],
   "source": [
    "# Genera un array con cantidades vendidas aleatorias.\n",
    "\n",
    "sale = np.random.randint(1, 500, size = 100)\n",
    "sale "
   ]
  },
  {
   "cell_type": "code",
   "execution_count": 29,
   "metadata": {},
   "outputs": [
    {
     "data": {
      "text/plain": [
       "array([295, 468, 368, 312, 400, 159, 258, 467, 283, 219, 199, 482, 424,\n",
       "       266, 441, 240, 300,  23, 116, 489, 487, 270,  25, 242, 109, 229,\n",
       "       460, 177, 344, 377, 371, 496,  78, 289, 424, 139,  24,  95, 396,\n",
       "       175,  75, 212, 209, 236, 478,  31, 298, 236,  44, 476, 112, 409,\n",
       "       263,  70, 412,  15, 215, 151, 408, 221, 372,  45, 108, 144, 187,\n",
       "       356,  28, 309, 189, 350, 161, 290, 235,   9, 145, 120, 112,  42,\n",
       "        73, 186, 458,  87, 333,  62,  79, 220, 449, 217, 407,  96, 296,\n",
       "       428, 248, 125, 278,  14,  39, 447,  37, 445])"
      ]
     },
     "execution_count": 29,
     "metadata": {},
     "output_type": "execute_result"
    }
   ],
   "source": [
    "# Genera un array con precios unitarios aleatorios.\n",
    "\n",
    "unit_price = np.random.randint(1, 500, size = 100)\n",
    "unit_price "
   ]
  },
  {
   "cell_type": "code",
   "execution_count": 30,
   "metadata": {},
   "outputs": [
    {
     "data": {
      "text/plain": [
       "array(['2023-05-05T00:00:00.000000000', '2024-04-11T00:00:00.000000000',\n",
       "       '2024-05-01T00:00:00.000000000', '2022-01-20T00:00:00.000000000',\n",
       "       '2022-10-12T00:00:00.000000000', '2022-04-12T00:00:00.000000000',\n",
       "       '2024-01-25T00:00:00.000000000', '2024-05-15T00:00:00.000000000',\n",
       "       '2023-06-01T00:00:00.000000000', '2022-08-18T00:00:00.000000000',\n",
       "       '2024-03-22T00:00:00.000000000', '2022-05-07T00:00:00.000000000',\n",
       "       '2023-03-12T00:00:00.000000000', '2023-02-21T00:00:00.000000000',\n",
       "       '2023-03-30T00:00:00.000000000', '2022-07-09T00:00:00.000000000',\n",
       "       '2022-05-25T00:00:00.000000000', '2023-07-14T00:00:00.000000000',\n",
       "       '2023-07-26T00:00:00.000000000', '2023-12-06T00:00:00.000000000',\n",
       "       '2024-04-13T00:00:00.000000000', '2023-08-08T00:00:00.000000000',\n",
       "       '2022-06-14T00:00:00.000000000', '2024-01-17T00:00:00.000000000',\n",
       "       '2023-01-14T00:00:00.000000000', '2023-11-05T00:00:00.000000000',\n",
       "       '2023-10-13T00:00:00.000000000', '2023-08-09T00:00:00.000000000',\n",
       "       '2023-05-27T00:00:00.000000000', '2024-03-25T00:00:00.000000000',\n",
       "       '2022-08-22T00:00:00.000000000', '2023-05-06T00:00:00.000000000',\n",
       "       '2024-02-12T00:00:00.000000000', '2022-04-14T00:00:00.000000000',\n",
       "       '2023-11-29T00:00:00.000000000', '2022-11-28T00:00:00.000000000',\n",
       "       '2022-03-18T00:00:00.000000000', '2023-09-05T00:00:00.000000000',\n",
       "       '2022-05-14T00:00:00.000000000', '2022-03-04T00:00:00.000000000',\n",
       "       '2022-04-10T00:00:00.000000000', '2023-04-05T00:00:00.000000000',\n",
       "       '2023-05-02T00:00:00.000000000', '2023-07-09T00:00:00.000000000',\n",
       "       '2023-09-20T00:00:00.000000000', '2023-02-25T00:00:00.000000000',\n",
       "       '2022-05-03T00:00:00.000000000', '2023-10-25T00:00:00.000000000',\n",
       "       '2023-04-18T00:00:00.000000000', '2022-05-26T00:00:00.000000000',\n",
       "       '2024-03-14T00:00:00.000000000', '2024-02-18T00:00:00.000000000',\n",
       "       '2022-01-07T00:00:00.000000000', '2022-03-27T00:00:00.000000000',\n",
       "       '2023-01-11T00:00:00.000000000', '2023-08-08T00:00:00.000000000',\n",
       "       '2023-08-30T00:00:00.000000000', '2023-06-14T00:00:00.000000000',\n",
       "       '2023-09-10T00:00:00.000000000', '2024-05-08T00:00:00.000000000',\n",
       "       '2022-07-20T00:00:00.000000000', '2022-05-26T00:00:00.000000000',\n",
       "       '2023-06-24T00:00:00.000000000', '2022-05-17T00:00:00.000000000',\n",
       "       '2023-01-05T00:00:00.000000000', '2022-04-03T00:00:00.000000000',\n",
       "       '2022-08-11T00:00:00.000000000', '2023-09-23T00:00:00.000000000',\n",
       "       '2022-12-05T00:00:00.000000000', '2022-09-16T00:00:00.000000000',\n",
       "       '2023-12-18T00:00:00.000000000', '2022-04-25T00:00:00.000000000',\n",
       "       '2022-04-10T00:00:00.000000000', '2024-02-08T00:00:00.000000000',\n",
       "       '2022-09-21T00:00:00.000000000', '2022-08-09T00:00:00.000000000',\n",
       "       '2023-03-11T00:00:00.000000000', '2022-06-07T00:00:00.000000000',\n",
       "       '2024-01-14T00:00:00.000000000', '2024-03-02T00:00:00.000000000',\n",
       "       '2023-08-15T00:00:00.000000000', '2023-11-28T00:00:00.000000000',\n",
       "       '2023-09-18T00:00:00.000000000', '2023-01-01T00:00:00.000000000',\n",
       "       '2023-12-30T00:00:00.000000000', '2022-11-04T00:00:00.000000000',\n",
       "       '2022-07-09T00:00:00.000000000', '2023-04-01T00:00:00.000000000',\n",
       "       '2024-03-19T00:00:00.000000000', '2022-04-29T00:00:00.000000000',\n",
       "       '2022-12-14T00:00:00.000000000', '2022-06-17T00:00:00.000000000',\n",
       "       '2023-07-07T00:00:00.000000000', '2023-01-09T00:00:00.000000000',\n",
       "       '2023-08-19T00:00:00.000000000', '2023-07-03T00:00:00.000000000',\n",
       "       '2022-08-27T00:00:00.000000000', '2022-02-12T00:00:00.000000000',\n",
       "       '2022-05-04T00:00:00.000000000', '2024-02-10T00:00:00.000000000'],\n",
       "      dtype='datetime64[ns]')"
      ]
     },
     "execution_count": 30,
     "metadata": {},
     "output_type": "execute_result"
    }
   ],
   "source": [
    "# Genera un array con fechas aleatorias\n",
    "\n",
    "import pandas as pd\n",
    "\n",
    "date = np.random.choice(pd.date_range('01/01/2022','06/08/2024'), size= 100)\n",
    "date "
   ]
  },
  {
   "cell_type": "code",
   "execution_count": 31,
   "metadata": {},
   "outputs": [],
   "source": [
    "# Cambio el datadtype de los datos para que sean compatibles\n",
    "\n",
    "product_id = np.array(product_id, dtype=str)\n",
    "sale = np.array(sale, dtype=str)\n",
    "unit_price = np.array(unit_price, dtype=str)\n",
    "date = np.array(date, dtype=str)"
   ]
  },
  {
   "cell_type": "code",
   "execution_count": 32,
   "metadata": {},
   "outputs": [
    {
     "data": {
      "text/html": [
       "<div>\n",
       "<style scoped>\n",
       "    .dataframe tbody tr th:only-of-type {\n",
       "        vertical-align: middle;\n",
       "    }\n",
       "\n",
       "    .dataframe tbody tr th {\n",
       "        vertical-align: top;\n",
       "    }\n",
       "\n",
       "    .dataframe thead th {\n",
       "        text-align: right;\n",
       "    }\n",
       "</style>\n",
       "<table border=\"1\" class=\"dataframe\">\n",
       "  <thead>\n",
       "    <tr style=\"text-align: right;\">\n",
       "      <th></th>\n",
       "      <th>Product_id</th>\n",
       "      <th>Sale</th>\n",
       "      <th>Unit_price</th>\n",
       "      <th>Date</th>\n",
       "    </tr>\n",
       "  </thead>\n",
       "  <tbody>\n",
       "    <tr>\n",
       "      <th>0</th>\n",
       "      <td>9323</td>\n",
       "      <td>229</td>\n",
       "      <td>295</td>\n",
       "      <td>2023-05-05T00:00:00.000000000</td>\n",
       "    </tr>\n",
       "    <tr>\n",
       "      <th>1</th>\n",
       "      <td>7809</td>\n",
       "      <td>270</td>\n",
       "      <td>468</td>\n",
       "      <td>2024-04-11T00:00:00.000000000</td>\n",
       "    </tr>\n",
       "    <tr>\n",
       "      <th>2</th>\n",
       "      <td>8560</td>\n",
       "      <td>429</td>\n",
       "      <td>368</td>\n",
       "      <td>2024-05-01T00:00:00.000000000</td>\n",
       "    </tr>\n",
       "    <tr>\n",
       "      <th>3</th>\n",
       "      <td>1552</td>\n",
       "      <td>361</td>\n",
       "      <td>312</td>\n",
       "      <td>2022-01-20T00:00:00.000000000</td>\n",
       "    </tr>\n",
       "    <tr>\n",
       "      <th>4</th>\n",
       "      <td>7298</td>\n",
       "      <td>325</td>\n",
       "      <td>400</td>\n",
       "      <td>2022-10-12T00:00:00.000000000</td>\n",
       "    </tr>\n",
       "    <tr>\n",
       "      <th>...</th>\n",
       "      <td>...</td>\n",
       "      <td>...</td>\n",
       "      <td>...</td>\n",
       "      <td>...</td>\n",
       "    </tr>\n",
       "    <tr>\n",
       "      <th>95</th>\n",
       "      <td>7115</td>\n",
       "      <td>118</td>\n",
       "      <td>14</td>\n",
       "      <td>2023-07-03T00:00:00.000000000</td>\n",
       "    </tr>\n",
       "    <tr>\n",
       "      <th>96</th>\n",
       "      <td>5935</td>\n",
       "      <td>78</td>\n",
       "      <td>39</td>\n",
       "      <td>2022-08-27T00:00:00.000000000</td>\n",
       "    </tr>\n",
       "    <tr>\n",
       "      <th>97</th>\n",
       "      <td>8440</td>\n",
       "      <td>21</td>\n",
       "      <td>447</td>\n",
       "      <td>2022-02-12T00:00:00.000000000</td>\n",
       "    </tr>\n",
       "    <tr>\n",
       "      <th>98</th>\n",
       "      <td>5561</td>\n",
       "      <td>298</td>\n",
       "      <td>37</td>\n",
       "      <td>2022-05-04T00:00:00.000000000</td>\n",
       "    </tr>\n",
       "    <tr>\n",
       "      <th>99</th>\n",
       "      <td>6533</td>\n",
       "      <td>26</td>\n",
       "      <td>445</td>\n",
       "      <td>2024-02-10T00:00:00.000000000</td>\n",
       "    </tr>\n",
       "  </tbody>\n",
       "</table>\n",
       "<p>100 rows × 4 columns</p>\n",
       "</div>"
      ],
      "text/plain": [
       "   Product_id Sale Unit_price                           Date\n",
       "0        9323  229        295  2023-05-05T00:00:00.000000000\n",
       "1        7809  270        468  2024-04-11T00:00:00.000000000\n",
       "2        8560  429        368  2024-05-01T00:00:00.000000000\n",
       "3        1552  361        312  2022-01-20T00:00:00.000000000\n",
       "4        7298  325        400  2022-10-12T00:00:00.000000000\n",
       "..        ...  ...        ...                            ...\n",
       "95       7115  118         14  2023-07-03T00:00:00.000000000\n",
       "96       5935   78         39  2022-08-27T00:00:00.000000000\n",
       "97       8440   21        447  2022-02-12T00:00:00.000000000\n",
       "98       5561  298         37  2022-05-04T00:00:00.000000000\n",
       "99       6533   26        445  2024-02-10T00:00:00.000000000\n",
       "\n",
       "[100 rows x 4 columns]"
      ]
     },
     "execution_count": 32,
     "metadata": {},
     "output_type": "execute_result"
    }
   ],
   "source": [
    "# Combina estos arrays en una única matriz.\n",
    "\n",
    "dataset_sale = np.column_stack((product_id, sale, unit_price, date))\n",
    "df = pd.DataFrame(dataset_sale, columns=['Product_id', 'Sale', 'Unit_price', 'Date'])\n",
    "df "
   ]
  },
  {
   "cell_type": "markdown",
   "metadata": {},
   "source": [
    "Ejercicio: Utiliza un dataset de muestra que simule registros de temperaturas diarias durante un año. Realiza el siguiente análisis:"
   ]
  },
  {
   "cell_type": "code",
   "execution_count": 33,
   "metadata": {},
   "outputs": [
    {
     "name": "stderr",
     "output_type": "stream",
     "text": [
      "C:\\Users\\franc\\AppData\\Local\\Temp\\ipykernel_6332\\1260999261.py:1: DtypeWarning: Columns (2) have mixed types. Specify dtype option on import or set low_memory=False.\n",
      "  df_temp = pd.read_csv('C:/Users/franc/Documents/Proyectos/DataSets/city_temperature.csv')\n"
     ]
    },
    {
     "data": {
      "text/html": [
       "<div>\n",
       "<style scoped>\n",
       "    .dataframe tbody tr th:only-of-type {\n",
       "        vertical-align: middle;\n",
       "    }\n",
       "\n",
       "    .dataframe tbody tr th {\n",
       "        vertical-align: top;\n",
       "    }\n",
       "\n",
       "    .dataframe thead th {\n",
       "        text-align: right;\n",
       "    }\n",
       "</style>\n",
       "<table border=\"1\" class=\"dataframe\">\n",
       "  <thead>\n",
       "    <tr style=\"text-align: right;\">\n",
       "      <th></th>\n",
       "      <th>Region</th>\n",
       "      <th>Country</th>\n",
       "      <th>State</th>\n",
       "      <th>City</th>\n",
       "      <th>Month</th>\n",
       "      <th>Day</th>\n",
       "      <th>Year</th>\n",
       "      <th>AvgTemperature</th>\n",
       "    </tr>\n",
       "  </thead>\n",
       "  <tbody>\n",
       "    <tr>\n",
       "      <th>0</th>\n",
       "      <td>Africa</td>\n",
       "      <td>Algeria</td>\n",
       "      <td>NaN</td>\n",
       "      <td>Algiers</td>\n",
       "      <td>1</td>\n",
       "      <td>1</td>\n",
       "      <td>1995</td>\n",
       "      <td>64.2</td>\n",
       "    </tr>\n",
       "    <tr>\n",
       "      <th>1</th>\n",
       "      <td>Africa</td>\n",
       "      <td>Algeria</td>\n",
       "      <td>NaN</td>\n",
       "      <td>Algiers</td>\n",
       "      <td>1</td>\n",
       "      <td>2</td>\n",
       "      <td>1995</td>\n",
       "      <td>49.4</td>\n",
       "    </tr>\n",
       "    <tr>\n",
       "      <th>2</th>\n",
       "      <td>Africa</td>\n",
       "      <td>Algeria</td>\n",
       "      <td>NaN</td>\n",
       "      <td>Algiers</td>\n",
       "      <td>1</td>\n",
       "      <td>3</td>\n",
       "      <td>1995</td>\n",
       "      <td>48.8</td>\n",
       "    </tr>\n",
       "    <tr>\n",
       "      <th>3</th>\n",
       "      <td>Africa</td>\n",
       "      <td>Algeria</td>\n",
       "      <td>NaN</td>\n",
       "      <td>Algiers</td>\n",
       "      <td>1</td>\n",
       "      <td>4</td>\n",
       "      <td>1995</td>\n",
       "      <td>46.4</td>\n",
       "    </tr>\n",
       "    <tr>\n",
       "      <th>4</th>\n",
       "      <td>Africa</td>\n",
       "      <td>Algeria</td>\n",
       "      <td>NaN</td>\n",
       "      <td>Algiers</td>\n",
       "      <td>1</td>\n",
       "      <td>5</td>\n",
       "      <td>1995</td>\n",
       "      <td>47.9</td>\n",
       "    </tr>\n",
       "    <tr>\n",
       "      <th>...</th>\n",
       "      <td>...</td>\n",
       "      <td>...</td>\n",
       "      <td>...</td>\n",
       "      <td>...</td>\n",
       "      <td>...</td>\n",
       "      <td>...</td>\n",
       "      <td>...</td>\n",
       "      <td>...</td>\n",
       "    </tr>\n",
       "    <tr>\n",
       "      <th>2906322</th>\n",
       "      <td>North America</td>\n",
       "      <td>US</td>\n",
       "      <td>Additional Territories</td>\n",
       "      <td>San Juan Puerto Rico</td>\n",
       "      <td>7</td>\n",
       "      <td>27</td>\n",
       "      <td>2013</td>\n",
       "      <td>82.4</td>\n",
       "    </tr>\n",
       "    <tr>\n",
       "      <th>2906323</th>\n",
       "      <td>North America</td>\n",
       "      <td>US</td>\n",
       "      <td>Additional Territories</td>\n",
       "      <td>San Juan Puerto Rico</td>\n",
       "      <td>7</td>\n",
       "      <td>28</td>\n",
       "      <td>2013</td>\n",
       "      <td>81.6</td>\n",
       "    </tr>\n",
       "    <tr>\n",
       "      <th>2906324</th>\n",
       "      <td>North America</td>\n",
       "      <td>US</td>\n",
       "      <td>Additional Territories</td>\n",
       "      <td>San Juan Puerto Rico</td>\n",
       "      <td>7</td>\n",
       "      <td>29</td>\n",
       "      <td>2013</td>\n",
       "      <td>84.2</td>\n",
       "    </tr>\n",
       "    <tr>\n",
       "      <th>2906325</th>\n",
       "      <td>North America</td>\n",
       "      <td>US</td>\n",
       "      <td>Additional Territories</td>\n",
       "      <td>San Juan Puerto Rico</td>\n",
       "      <td>7</td>\n",
       "      <td>30</td>\n",
       "      <td>2013</td>\n",
       "      <td>83.8</td>\n",
       "    </tr>\n",
       "    <tr>\n",
       "      <th>2906326</th>\n",
       "      <td>North America</td>\n",
       "      <td>US</td>\n",
       "      <td>Additional Territories</td>\n",
       "      <td>San Juan Puerto Rico</td>\n",
       "      <td>7</td>\n",
       "      <td>31</td>\n",
       "      <td>2013</td>\n",
       "      <td>83.6</td>\n",
       "    </tr>\n",
       "  </tbody>\n",
       "</table>\n",
       "<p>2906327 rows × 8 columns</p>\n",
       "</div>"
      ],
      "text/plain": [
       "                Region  Country                   State                  City  \\\n",
       "0               Africa  Algeria                     NaN               Algiers   \n",
       "1               Africa  Algeria                     NaN               Algiers   \n",
       "2               Africa  Algeria                     NaN               Algiers   \n",
       "3               Africa  Algeria                     NaN               Algiers   \n",
       "4               Africa  Algeria                     NaN               Algiers   \n",
       "...                ...      ...                     ...                   ...   \n",
       "2906322  North America       US  Additional Territories  San Juan Puerto Rico   \n",
       "2906323  North America       US  Additional Territories  San Juan Puerto Rico   \n",
       "2906324  North America       US  Additional Territories  San Juan Puerto Rico   \n",
       "2906325  North America       US  Additional Territories  San Juan Puerto Rico   \n",
       "2906326  North America       US  Additional Territories  San Juan Puerto Rico   \n",
       "\n",
       "         Month  Day  Year  AvgTemperature  \n",
       "0            1    1  1995            64.2  \n",
       "1            1    2  1995            49.4  \n",
       "2            1    3  1995            48.8  \n",
       "3            1    4  1995            46.4  \n",
       "4            1    5  1995            47.9  \n",
       "...        ...  ...   ...             ...  \n",
       "2906322      7   27  2013            82.4  \n",
       "2906323      7   28  2013            81.6  \n",
       "2906324      7   29  2013            84.2  \n",
       "2906325      7   30  2013            83.8  \n",
       "2906326      7   31  2013            83.6  \n",
       "\n",
       "[2906327 rows x 8 columns]"
      ]
     },
     "execution_count": 33,
     "metadata": {},
     "output_type": "execute_result"
    }
   ],
   "source": [
    "df_temp = pd.read_csv('C:/Users/franc/Documents/Proyectos/DataSets/city_temperature.csv')\n",
    "df_temp"
   ]
  },
  {
   "cell_type": "code",
   "execution_count": 34,
   "metadata": {},
   "outputs": [
    {
     "name": "stdout",
     "output_type": "stream",
     "text": [
      "<class 'pandas.core.frame.DataFrame'>\n",
      "RangeIndex: 2906327 entries, 0 to 2906326\n",
      "Data columns (total 8 columns):\n",
      " #   Column          Dtype  \n",
      "---  ------          -----  \n",
      " 0   Region          object \n",
      " 1   Country         object \n",
      " 2   State           object \n",
      " 3   City            object \n",
      " 4   Month           int64  \n",
      " 5   Day             int64  \n",
      " 6   Year            int64  \n",
      " 7   AvgTemperature  float64\n",
      "dtypes: float64(1), int64(3), object(4)\n",
      "memory usage: 177.4+ MB\n"
     ]
    }
   ],
   "source": [
    "df_temp.info()"
   ]
  },
  {
   "cell_type": "code",
   "execution_count": 35,
   "metadata": {},
   "outputs": [
    {
     "data": {
      "text/plain": [
       "-99.0"
      ]
     },
     "execution_count": 35,
     "metadata": {},
     "output_type": "execute_result"
    }
   ],
   "source": [
    "# Calcula la temperatura máxima, mínima y media por mes.\n",
    "\n",
    "month = df_temp['Month'] == 12\n",
    "temp_per_month = df_temp[month]\n",
    "np.min(temp_per_month['AvgTemperature'])"
   ]
  },
  {
   "cell_type": "code",
   "execution_count": 36,
   "metadata": {},
   "outputs": [
    {
     "data": {
      "text/plain": [
       "95.6"
      ]
     },
     "execution_count": 36,
     "metadata": {},
     "output_type": "execute_result"
    }
   ],
   "source": [
    "np.max(temp_per_month['AvgTemperature'])"
   ]
  },
  {
   "cell_type": "code",
   "execution_count": 37,
   "metadata": {},
   "outputs": [
    {
     "data": {
      "text/plain": [
       "41.58702452575862"
      ]
     },
     "execution_count": 37,
     "metadata": {},
     "output_type": "execute_result"
    }
   ],
   "source": [
    "np.mean(temp_per_month['AvgTemperature'])"
   ]
  },
  {
   "cell_type": "code",
   "execution_count": 38,
   "metadata": {},
   "outputs": [
    {
     "data": {
      "text/plain": [
       "-99.0"
      ]
     },
     "execution_count": 38,
     "metadata": {},
     "output_type": "execute_result"
    }
   ],
   "source": [
    "# Calcula la temperatura máxima, mínima y media por año.\n",
    "\n",
    "year = df_temp['Year'] == 2013\n",
    "temp_per_year = df_temp[year]\n",
    "np.min(temp_per_year['AvgTemperature'])"
   ]
  },
  {
   "cell_type": "code",
   "execution_count": 39,
   "metadata": {},
   "outputs": [
    {
     "data": {
      "text/plain": [
       "109.4"
      ]
     },
     "execution_count": 39,
     "metadata": {},
     "output_type": "execute_result"
    }
   ],
   "source": [
    "np.max(temp_per_year['AvgTemperature'])"
   ]
  },
  {
   "cell_type": "code",
   "execution_count": 40,
   "metadata": {},
   "outputs": [
    {
     "data": {
      "text/plain": [
       "58.942099242485654"
      ]
     },
     "execution_count": 40,
     "metadata": {},
     "output_type": "execute_result"
    }
   ],
   "source": [
    "np.mean(temp_per_year['AvgTemperature'])"
   ]
  },
  {
   "cell_type": "code",
   "execution_count": 41,
   "metadata": {},
   "outputs": [
    {
     "data": {
      "text/plain": [
       "Year\n",
       "200    -99.000000\n",
       "201    -99.000000\n",
       "1995    50.788443\n",
       "1996    50.433921\n",
       "1997    51.531859\n",
       "1998    50.157098\n",
       "1999    52.386332\n",
       "2000    52.388756\n",
       "2001    54.882582\n",
       "2002    52.598752\n",
       "2003    53.516448\n",
       "2004    54.664908\n",
       "2005    56.302068\n",
       "2006    56.337306\n",
       "2007    57.640728\n",
       "2008    56.853731\n",
       "2009    58.334108\n",
       "2010    57.902224\n",
       "2011    58.848359\n",
       "2012    60.218607\n",
       "2013    58.942099\n",
       "2014    58.488029\n",
       "2015    60.639640\n",
       "2016    60.781074\n",
       "2017    60.952029\n",
       "2018    59.804724\n",
       "2019    59.211184\n",
       "2020    53.775568\n",
       "Name: AvgTemperature, dtype: float64"
      ]
     },
     "execution_count": 41,
     "metadata": {},
     "output_type": "execute_result"
    }
   ],
   "source": [
    "main_temp = df_temp.groupby('Year')\n",
    "main_temp['AvgTemperature'].mean()"
   ]
  },
  {
   "cell_type": "code",
   "execution_count": 42,
   "metadata": {},
   "outputs": [],
   "source": [
    "# Filtrar datos incoherentes\n",
    "\n",
    "filter_temp = df_temp['Year'] >= 1900\n",
    "df_t = df_temp[filter_temp]\n",
    "mean_temp = df_t.groupby('Year')['AvgTemperature'].mean()"
   ]
  },
  {
   "cell_type": "code",
   "execution_count": 43,
   "metadata": {},
   "outputs": [],
   "source": [
    "# Convertir esta tabla en arrays\n",
    "\n",
    "years = np.array(mean_temp.index)\n",
    "avg_temperatures = np.array(mean_temp.values)"
   ]
  }
 ],
 "metadata": {
  "kernelspec": {
   "display_name": "Python 3",
   "language": "python",
   "name": "python3"
  },
  "language_info": {
   "codemirror_mode": {
    "name": "ipython",
    "version": 3
   },
   "file_extension": ".py",
   "mimetype": "text/x-python",
   "name": "python",
   "nbconvert_exporter": "python",
   "pygments_lexer": "ipython3",
   "version": "3.12.3"
  }
 },
 "nbformat": 4,
 "nbformat_minor": 2
}
